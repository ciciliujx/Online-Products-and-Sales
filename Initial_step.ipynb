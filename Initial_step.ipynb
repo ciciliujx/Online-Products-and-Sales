{
 "cells": [
  {
   "cell_type": "markdown",
   "id": "2eedd4f8-1da5-4208-86b0-f3ff8f1ef77a",
   "metadata": {},
   "source": [
    "# Preliminary Analysis\n",
    "Cici"
   ]
  },
  {
   "cell_type": "markdown",
   "id": "6fdac91d-89c7-4129-b072-b94b8d05144a",
   "metadata": {},
   "source": [
    "### Data Cleaning"
   ]
  },
  {
   "cell_type": "code",
   "execution_count": 24,
   "id": "9b2f1dc8-6f79-4fa1-9b1b-b8b759cad3fa",
   "metadata": {},
   "outputs": [],
   "source": [
    "import pandas as pd\n",
    "import numpy as np\n",
    "import warnings\n",
    "import matplotlib.pyplot as plt\n",
    "warnings.filterwarnings(\"ignore\")"
   ]
  },
  {
   "cell_type": "code",
   "execution_count": 25,
   "id": "fe90eb99-13ad-4638-bac4-45fe018232be",
   "metadata": {},
   "outputs": [],
   "source": [
    "url = \"https://raw.githubusercontent.com/ljy0401/ECON-323-Group-Project/main/amazon.csv\"\n",
    "data = pd.read_csv(url)"
   ]
  },
  {
   "cell_type": "code",
   "execution_count": 26,
   "id": "3f9384f3-cdf8-40db-b30e-bbd8354dce42",
   "metadata": {},
   "outputs": [],
   "source": [
    "da = data[[\"category\", \n",
    "          \"discounted_price\", \n",
    "          \"actual_price\", \n",
    "          \"discount_percentage\", \n",
    "          \"rating\", \n",
    "          \"rating_count\"]]"
   ]
  },
  {
   "cell_type": "code",
   "execution_count": 27,
   "id": "02c38375-cce3-4cd2-8a1b-272e82197140",
   "metadata": {},
   "outputs": [],
   "source": [
    "for col in [\"discounted_price\", \"actual_price\", \"rating_count\"]:\n",
    "    da[col] = da[col].str.replace(\"₹\", \"\")\n",
    "    da[col] = da[col].str.replace(\",\", \"\")\n",
    "    \n",
    "da[\"discount_percentage\"] = da[\"discount_percentage\"].str.replace(\"%\", \"\")\n",
    "\n",
    "da[[\"discounted_price\", \"actual_price\", \"discount_percentage\", \"rating\", \n",
    "    \"rating_count\"]] = da[[\"discounted_price\", \"actual_price\", \"discount_percentage\", \"rating\", \n",
    "    \"rating_count\"]].apply(pd.to_numeric, errors='coerce')"
   ]
  },
  {
   "cell_type": "code",
   "execution_count": 28,
   "id": "13dd8a76-28f3-48c6-963a-c8074cfdadff",
   "metadata": {},
   "outputs": [
    {
     "data": {
      "text/html": [
       "<div>\n",
       "<style scoped>\n",
       "    .dataframe tbody tr th:only-of-type {\n",
       "        vertical-align: middle;\n",
       "    }\n",
       "\n",
       "    .dataframe tbody tr th {\n",
       "        vertical-align: top;\n",
       "    }\n",
       "\n",
       "    .dataframe thead th {\n",
       "        text-align: right;\n",
       "    }\n",
       "</style>\n",
       "<table border=\"1\" class=\"dataframe\">\n",
       "  <thead>\n",
       "    <tr style=\"text-align: right;\">\n",
       "      <th></th>\n",
       "      <th>category</th>\n",
       "      <th>discounted_price</th>\n",
       "      <th>actual_price</th>\n",
       "      <th>discount_percentage</th>\n",
       "      <th>rating</th>\n",
       "      <th>rating_count</th>\n",
       "    </tr>\n",
       "  </thead>\n",
       "  <tbody>\n",
       "    <tr>\n",
       "      <th>0</th>\n",
       "      <td>Computers&amp;Accessories|Accessories&amp;Peripherals|...</td>\n",
       "      <td>399.0</td>\n",
       "      <td>1099.0</td>\n",
       "      <td>64</td>\n",
       "      <td>4.2</td>\n",
       "      <td>24269.0</td>\n",
       "    </tr>\n",
       "    <tr>\n",
       "      <th>1</th>\n",
       "      <td>Computers&amp;Accessories|Accessories&amp;Peripherals|...</td>\n",
       "      <td>199.0</td>\n",
       "      <td>349.0</td>\n",
       "      <td>43</td>\n",
       "      <td>4.0</td>\n",
       "      <td>43994.0</td>\n",
       "    </tr>\n",
       "    <tr>\n",
       "      <th>2</th>\n",
       "      <td>Computers&amp;Accessories|Accessories&amp;Peripherals|...</td>\n",
       "      <td>199.0</td>\n",
       "      <td>1899.0</td>\n",
       "      <td>90</td>\n",
       "      <td>3.9</td>\n",
       "      <td>7928.0</td>\n",
       "    </tr>\n",
       "    <tr>\n",
       "      <th>3</th>\n",
       "      <td>Computers&amp;Accessories|Accessories&amp;Peripherals|...</td>\n",
       "      <td>329.0</td>\n",
       "      <td>699.0</td>\n",
       "      <td>53</td>\n",
       "      <td>4.2</td>\n",
       "      <td>94363.0</td>\n",
       "    </tr>\n",
       "    <tr>\n",
       "      <th>4</th>\n",
       "      <td>Computers&amp;Accessories|Accessories&amp;Peripherals|...</td>\n",
       "      <td>154.0</td>\n",
       "      <td>399.0</td>\n",
       "      <td>61</td>\n",
       "      <td>4.2</td>\n",
       "      <td>16905.0</td>\n",
       "    </tr>\n",
       "  </tbody>\n",
       "</table>\n",
       "</div>"
      ],
      "text/plain": [
       "                                            category  discounted_price  \\\n",
       "0  Computers&Accessories|Accessories&Peripherals|...             399.0   \n",
       "1  Computers&Accessories|Accessories&Peripherals|...             199.0   \n",
       "2  Computers&Accessories|Accessories&Peripherals|...             199.0   \n",
       "3  Computers&Accessories|Accessories&Peripherals|...             329.0   \n",
       "4  Computers&Accessories|Accessories&Peripherals|...             154.0   \n",
       "\n",
       "   actual_price  discount_percentage  rating  rating_count  \n",
       "0        1099.0                   64     4.2       24269.0  \n",
       "1         349.0                   43     4.0       43994.0  \n",
       "2        1899.0                   90     3.9        7928.0  \n",
       "3         699.0                   53     4.2       94363.0  \n",
       "4         399.0                   61     4.2       16905.0  "
      ]
     },
     "execution_count": 28,
     "metadata": {},
     "output_type": "execute_result"
    }
   ],
   "source": [
    "da.head()"
   ]
  },
  {
   "cell_type": "markdown",
   "id": "f2b1587f-0f7c-4c99-b871-d4c542f5276a",
   "metadata": {},
   "source": [
    "### Glimpse of Data"
   ]
  },
  {
   "cell_type": "markdown",
   "id": "e3315a07-6f5e-4bb9-b44f-dfb09696d2b4",
   "metadata": {},
   "source": [
    "- Product Category\n",
    "\n",
    "For products that fall into the exact same category, there are not many varieties. \n",
    "A typical count would be <3."
   ]
  },
  {
   "cell_type": "code",
   "execution_count": 29,
   "id": "f0d142ec-b30c-4b0f-bd1b-771f39632785",
   "metadata": {},
   "outputs": [
    {
     "data": {
      "text/html": [
       "<div>\n",
       "<style scoped>\n",
       "    .dataframe tbody tr th:only-of-type {\n",
       "        vertical-align: middle;\n",
       "    }\n",
       "\n",
       "    .dataframe tbody tr th {\n",
       "        vertical-align: top;\n",
       "    }\n",
       "\n",
       "    .dataframe thead th {\n",
       "        text-align: right;\n",
       "    }\n",
       "</style>\n",
       "<table border=\"1\" class=\"dataframe\">\n",
       "  <thead>\n",
       "    <tr style=\"text-align: right;\">\n",
       "      <th></th>\n",
       "      <th>discounted_price</th>\n",
       "      <th>actual_price</th>\n",
       "      <th>discount_percentage</th>\n",
       "      <th>rating</th>\n",
       "      <th>rating_count</th>\n",
       "    </tr>\n",
       "  </thead>\n",
       "  <tbody>\n",
       "    <tr>\n",
       "      <th>count</th>\n",
       "      <td>211.000000</td>\n",
       "      <td>211.000000</td>\n",
       "      <td>211.000000</td>\n",
       "      <td>211.000000</td>\n",
       "      <td>211.000000</td>\n",
       "    </tr>\n",
       "    <tr>\n",
       "      <th>mean</th>\n",
       "      <td>6.943128</td>\n",
       "      <td>6.943128</td>\n",
       "      <td>6.943128</td>\n",
       "      <td>6.938389</td>\n",
       "      <td>6.933649</td>\n",
       "    </tr>\n",
       "    <tr>\n",
       "      <th>std</th>\n",
       "      <td>18.717870</td>\n",
       "      <td>18.717870</td>\n",
       "      <td>18.717870</td>\n",
       "      <td>18.717728</td>\n",
       "      <td>18.603004</td>\n",
       "    </tr>\n",
       "    <tr>\n",
       "      <th>min</th>\n",
       "      <td>1.000000</td>\n",
       "      <td>1.000000</td>\n",
       "      <td>1.000000</td>\n",
       "      <td>1.000000</td>\n",
       "      <td>1.000000</td>\n",
       "    </tr>\n",
       "    <tr>\n",
       "      <th>25%</th>\n",
       "      <td>1.000000</td>\n",
       "      <td>1.000000</td>\n",
       "      <td>1.000000</td>\n",
       "      <td>1.000000</td>\n",
       "      <td>1.000000</td>\n",
       "    </tr>\n",
       "    <tr>\n",
       "      <th>50%</th>\n",
       "      <td>2.000000</td>\n",
       "      <td>2.000000</td>\n",
       "      <td>2.000000</td>\n",
       "      <td>2.000000</td>\n",
       "      <td>2.000000</td>\n",
       "    </tr>\n",
       "    <tr>\n",
       "      <th>75%</th>\n",
       "      <td>6.000000</td>\n",
       "      <td>6.000000</td>\n",
       "      <td>6.000000</td>\n",
       "      <td>6.000000</td>\n",
       "      <td>6.000000</td>\n",
       "    </tr>\n",
       "    <tr>\n",
       "      <th>max</th>\n",
       "      <td>233.000000</td>\n",
       "      <td>233.000000</td>\n",
       "      <td>233.000000</td>\n",
       "      <td>233.000000</td>\n",
       "      <td>231.000000</td>\n",
       "    </tr>\n",
       "  </tbody>\n",
       "</table>\n",
       "</div>"
      ],
      "text/plain": [
       "       discounted_price  actual_price  discount_percentage      rating  \\\n",
       "count        211.000000    211.000000           211.000000  211.000000   \n",
       "mean           6.943128      6.943128             6.943128    6.938389   \n",
       "std           18.717870     18.717870            18.717870   18.717728   \n",
       "min            1.000000      1.000000             1.000000    1.000000   \n",
       "25%            1.000000      1.000000             1.000000    1.000000   \n",
       "50%            2.000000      2.000000             2.000000    2.000000   \n",
       "75%            6.000000      6.000000             6.000000    6.000000   \n",
       "max          233.000000    233.000000           233.000000  233.000000   \n",
       "\n",
       "       rating_count  \n",
       "count    211.000000  \n",
       "mean       6.933649  \n",
       "std       18.603004  \n",
       "min        1.000000  \n",
       "25%        1.000000  \n",
       "50%        2.000000  \n",
       "75%        6.000000  \n",
       "max      231.000000  "
      ]
     },
     "execution_count": 29,
     "metadata": {},
     "output_type": "execute_result"
    }
   ],
   "source": [
    "da.groupby(\"category\").count().describe()"
   ]
  },
  {
   "cell_type": "markdown",
   "id": "7a6a92ed-6c18-4ef8-8502-1e2433f327fa",
   "metadata": {},
   "source": [
    "**!!! Solution 1**\n",
    "\n",
    "To deal with that, one strategy may be only performing analysis on products that have more varieties.\n",
    "However, \n",
    "1) the count drops rapidly, \n",
    "2) Cici is not sure if ~50 products is sufficient to do any analysis"
   ]
  },
  {
   "cell_type": "code",
   "execution_count": 30,
   "id": "a2791e8e-08b5-4b1e-a31e-d002660e9e0c",
   "metadata": {},
   "outputs": [
    {
     "data": {
      "text/html": [
       "<div>\n",
       "<style scoped>\n",
       "    .dataframe tbody tr th:only-of-type {\n",
       "        vertical-align: middle;\n",
       "    }\n",
       "\n",
       "    .dataframe tbody tr th {\n",
       "        vertical-align: top;\n",
       "    }\n",
       "\n",
       "    .dataframe thead th {\n",
       "        text-align: right;\n",
       "    }\n",
       "</style>\n",
       "<table border=\"1\" class=\"dataframe\">\n",
       "  <thead>\n",
       "    <tr style=\"text-align: right;\">\n",
       "      <th></th>\n",
       "      <th>discounted_price</th>\n",
       "      <th>actual_price</th>\n",
       "      <th>discount_percentage</th>\n",
       "      <th>rating</th>\n",
       "      <th>rating_count</th>\n",
       "    </tr>\n",
       "    <tr>\n",
       "      <th>category</th>\n",
       "      <th></th>\n",
       "      <th></th>\n",
       "      <th></th>\n",
       "      <th></th>\n",
       "      <th></th>\n",
       "    </tr>\n",
       "  </thead>\n",
       "  <tbody>\n",
       "    <tr>\n",
       "      <th>Computers&amp;Accessories|Accessories&amp;Peripherals|Cables&amp;Accessories|Cables|USBCables</th>\n",
       "      <td>233</td>\n",
       "      <td>233</td>\n",
       "      <td>233</td>\n",
       "      <td>233</td>\n",
       "      <td>231</td>\n",
       "    </tr>\n",
       "    <tr>\n",
       "      <th>Electronics|WearableTechnology|SmartWatches</th>\n",
       "      <td>76</td>\n",
       "      <td>76</td>\n",
       "      <td>76</td>\n",
       "      <td>76</td>\n",
       "      <td>76</td>\n",
       "    </tr>\n",
       "    <tr>\n",
       "      <th>Electronics|Mobiles&amp;Accessories|Smartphones&amp;BasicMobiles|Smartphones</th>\n",
       "      <td>68</td>\n",
       "      <td>68</td>\n",
       "      <td>68</td>\n",
       "      <td>68</td>\n",
       "      <td>68</td>\n",
       "    </tr>\n",
       "    <tr>\n",
       "      <th>Electronics|HomeTheater,TV&amp;Video|Televisions|SmartTelevisions</th>\n",
       "      <td>63</td>\n",
       "      <td>63</td>\n",
       "      <td>63</td>\n",
       "      <td>63</td>\n",
       "      <td>63</td>\n",
       "    </tr>\n",
       "    <tr>\n",
       "      <th>Electronics|Headphones,Earbuds&amp;Accessories|Headphones|In-Ear</th>\n",
       "      <td>52</td>\n",
       "      <td>52</td>\n",
       "      <td>52</td>\n",
       "      <td>52</td>\n",
       "      <td>52</td>\n",
       "    </tr>\n",
       "    <tr>\n",
       "      <th>Electronics|HomeTheater,TV&amp;Video|Accessories|RemoteControls</th>\n",
       "      <td>49</td>\n",
       "      <td>49</td>\n",
       "      <td>49</td>\n",
       "      <td>49</td>\n",
       "      <td>49</td>\n",
       "    </tr>\n",
       "    <tr>\n",
       "      <th>Home&amp;Kitchen|Kitchen&amp;HomeAppliances|SmallKitchenAppliances|MixerGrinders</th>\n",
       "      <td>27</td>\n",
       "      <td>27</td>\n",
       "      <td>27</td>\n",
       "      <td>27</td>\n",
       "      <td>27</td>\n",
       "    </tr>\n",
       "    <tr>\n",
       "      <th>Computers&amp;Accessories|Accessories&amp;Peripherals|Keyboards,Mice&amp;InputDevices|Mice</th>\n",
       "      <td>24</td>\n",
       "      <td>24</td>\n",
       "      <td>24</td>\n",
       "      <td>24</td>\n",
       "      <td>24</td>\n",
       "    </tr>\n",
       "    <tr>\n",
       "      <th>Electronics|HomeTheater,TV&amp;Video|Accessories|Cables|HDMICables</th>\n",
       "      <td>24</td>\n",
       "      <td>24</td>\n",
       "      <td>24</td>\n",
       "      <td>24</td>\n",
       "      <td>24</td>\n",
       "    </tr>\n",
       "    <tr>\n",
       "      <th>Home&amp;Kitchen|Kitchen&amp;HomeAppliances|Vacuum,Cleaning&amp;Ironing|Irons,Steamers&amp;Accessories|Irons|DryIrons</th>\n",
       "      <td>24</td>\n",
       "      <td>24</td>\n",
       "      <td>24</td>\n",
       "      <td>24</td>\n",
       "      <td>24</td>\n",
       "    </tr>\n",
       "  </tbody>\n",
       "</table>\n",
       "</div>"
      ],
      "text/plain": [
       "                                                    discounted_price  \\\n",
       "category                                                               \n",
       "Computers&Accessories|Accessories&Peripherals|C...               233   \n",
       "Electronics|WearableTechnology|SmartWatches                       76   \n",
       "Electronics|Mobiles&Accessories|Smartphones&Bas...                68   \n",
       "Electronics|HomeTheater,TV&Video|Televisions|Sm...                63   \n",
       "Electronics|Headphones,Earbuds&Accessories|Head...                52   \n",
       "Electronics|HomeTheater,TV&Video|Accessories|Re...                49   \n",
       "Home&Kitchen|Kitchen&HomeAppliances|SmallKitche...                27   \n",
       "Computers&Accessories|Accessories&Peripherals|K...                24   \n",
       "Electronics|HomeTheater,TV&Video|Accessories|Ca...                24   \n",
       "Home&Kitchen|Kitchen&HomeAppliances|Vacuum,Clea...                24   \n",
       "\n",
       "                                                    actual_price  \\\n",
       "category                                                           \n",
       "Computers&Accessories|Accessories&Peripherals|C...           233   \n",
       "Electronics|WearableTechnology|SmartWatches                   76   \n",
       "Electronics|Mobiles&Accessories|Smartphones&Bas...            68   \n",
       "Electronics|HomeTheater,TV&Video|Televisions|Sm...            63   \n",
       "Electronics|Headphones,Earbuds&Accessories|Head...            52   \n",
       "Electronics|HomeTheater,TV&Video|Accessories|Re...            49   \n",
       "Home&Kitchen|Kitchen&HomeAppliances|SmallKitche...            27   \n",
       "Computers&Accessories|Accessories&Peripherals|K...            24   \n",
       "Electronics|HomeTheater,TV&Video|Accessories|Ca...            24   \n",
       "Home&Kitchen|Kitchen&HomeAppliances|Vacuum,Clea...            24   \n",
       "\n",
       "                                                    discount_percentage  \\\n",
       "category                                                                  \n",
       "Computers&Accessories|Accessories&Peripherals|C...                  233   \n",
       "Electronics|WearableTechnology|SmartWatches                          76   \n",
       "Electronics|Mobiles&Accessories|Smartphones&Bas...                   68   \n",
       "Electronics|HomeTheater,TV&Video|Televisions|Sm...                   63   \n",
       "Electronics|Headphones,Earbuds&Accessories|Head...                   52   \n",
       "Electronics|HomeTheater,TV&Video|Accessories|Re...                   49   \n",
       "Home&Kitchen|Kitchen&HomeAppliances|SmallKitche...                   27   \n",
       "Computers&Accessories|Accessories&Peripherals|K...                   24   \n",
       "Electronics|HomeTheater,TV&Video|Accessories|Ca...                   24   \n",
       "Home&Kitchen|Kitchen&HomeAppliances|Vacuum,Clea...                   24   \n",
       "\n",
       "                                                    rating  rating_count  \n",
       "category                                                                  \n",
       "Computers&Accessories|Accessories&Peripherals|C...     233           231  \n",
       "Electronics|WearableTechnology|SmartWatches             76            76  \n",
       "Electronics|Mobiles&Accessories|Smartphones&Bas...      68            68  \n",
       "Electronics|HomeTheater,TV&Video|Televisions|Sm...      63            63  \n",
       "Electronics|Headphones,Earbuds&Accessories|Head...      52            52  \n",
       "Electronics|HomeTheater,TV&Video|Accessories|Re...      49            49  \n",
       "Home&Kitchen|Kitchen&HomeAppliances|SmallKitche...      27            27  \n",
       "Computers&Accessories|Accessories&Peripherals|K...      24            24  \n",
       "Electronics|HomeTheater,TV&Video|Accessories|Ca...      24            24  \n",
       "Home&Kitchen|Kitchen&HomeAppliances|Vacuum,Clea...      24            24  "
      ]
     },
     "execution_count": 30,
     "metadata": {},
     "output_type": "execute_result"
    }
   ],
   "source": [
    "da.groupby(\"category\").count().nlargest(10, \"discounted_price\")"
   ]
  },
  {
   "cell_type": "markdown",
   "id": "7e3d128f-99f9-4119-b24b-c5d840074051",
   "metadata": {},
   "source": [
    "!!! **Solution 2**\n",
    "\n",
    "Alternatively, we could elevate the categorical level, i.e. to amalgamate multiple branches into one big category.\n",
    "\n",
    "This usually means only keeping the first 1-2 big categories.\n",
    "\n",
    "In terms of coding, I came up with possible ways (the first one seems to be easier):\n",
    "\n",
    "1) \"Electronics\" `in` category's name (see tentative code below)\n",
    "\n",
    "advantage: it is doable and provides considerable observations for one category\n",
    "\n",
    "drawback: it requires some way to identify the number of large categories (may need to do parsing in 2).\n",
    "\n",
    "2) parsing \"..|..|..\" format\n",
    "\n",
    "drawback: google how to do it"
   ]
  },
  {
   "cell_type": "code",
   "execution_count": 31,
   "id": "cfe160ad-16f8-4bc3-846f-a72759af34ca",
   "metadata": {},
   "outputs": [
    {
     "data": {
      "text/plain": [
       "category               530\n",
       "discounted_price       530\n",
       "actual_price           530\n",
       "discount_percentage    530\n",
       "rating                 530\n",
       "rating_count           530\n",
       "dtype: int64"
      ]
     },
     "execution_count": 31,
     "metadata": {},
     "output_type": "execute_result"
    }
   ],
   "source": [
    "def electronics(a):\n",
    "    return \"Electronics\" in a\n",
    "\n",
    "all_electronics = da[\"category\"].apply(electronics)\n",
    "da[all_electronics].count()"
   ]
  },
  {
   "cell_type": "code",
   "execution_count": 32,
   "id": "17a1f62f-554f-407a-9800-2607ae81cfa6",
   "metadata": {},
   "outputs": [
    {
     "data": {
      "text/plain": [
       "category               308\n",
       "discounted_price       308\n",
       "actual_price           308\n",
       "discount_percentage    308\n",
       "rating                 307\n",
       "rating_count           308\n",
       "dtype: int64"
      ]
     },
     "execution_count": 32,
     "metadata": {},
     "output_type": "execute_result"
    }
   ],
   "source": [
    "def homekitchen(a):\n",
    "    return \"Home&Kitchen|Kitchen&HomeAppliances\" in a\n",
    "\n",
    "all_home_kitchen = da[\"category\"].apply(homekitchen)\n",
    "da[all_home_kitchen].count()"
   ]
  },
  {
   "cell_type": "markdown",
   "id": "3245af54-4fb7-40ac-b5ab-f1db9b2ed451",
   "metadata": {},
   "source": [
    "- Experience of Users\n",
    "\n",
    "If we want to do an analysis based on users (e.g, experienced users tend to rate higher for the products), it would be difficult.\n",
    "As from the table, the mean and median are around 1 - a typical user only rate one product in this dataset."
   ]
  },
  {
   "cell_type": "code",
   "execution_count": 33,
   "id": "f4d16860-676b-4c9a-bbd1-acf65f62b962",
   "metadata": {},
   "outputs": [
    {
     "ename": "KeyError",
     "evalue": "'user_id'",
     "output_type": "error",
     "traceback": [
      "\u001b[0;31m---------------------------------------------------------------------------\u001b[0m",
      "\u001b[0;31mKeyError\u001b[0m                                  Traceback (most recent call last)",
      "Input \u001b[0;32mIn [33]\u001b[0m, in \u001b[0;36m<cell line: 1>\u001b[0;34m()\u001b[0m\n\u001b[0;32m----> 1\u001b[0m \u001b[43mda\u001b[49m\u001b[38;5;241;43m.\u001b[39;49m\u001b[43mgroupby\u001b[49m\u001b[43m(\u001b[49m\u001b[38;5;124;43m\"\u001b[39;49m\u001b[38;5;124;43muser_id\u001b[39;49m\u001b[38;5;124;43m\"\u001b[39;49m\u001b[43m)\u001b[49m\u001b[38;5;241m.\u001b[39mcount()\u001b[38;5;241m.\u001b[39mdescribe()\n",
      "File \u001b[0;32m/opt/conda/lib/python3.10/site-packages/pandas/core/frame.py:7718\u001b[0m, in \u001b[0;36mDataFrame.groupby\u001b[0;34m(self, by, axis, level, as_index, sort, group_keys, squeeze, observed, dropna)\u001b[0m\n\u001b[1;32m   7713\u001b[0m axis \u001b[38;5;241m=\u001b[39m \u001b[38;5;28mself\u001b[39m\u001b[38;5;241m.\u001b[39m_get_axis_number(axis)\n\u001b[1;32m   7715\u001b[0m \u001b[38;5;66;03m# https://github.com/python/mypy/issues/7642\u001b[39;00m\n\u001b[1;32m   7716\u001b[0m \u001b[38;5;66;03m# error: Argument \"squeeze\" to \"DataFrameGroupBy\" has incompatible type\u001b[39;00m\n\u001b[1;32m   7717\u001b[0m \u001b[38;5;66;03m# \"Union[bool, NoDefault]\"; expected \"bool\"\u001b[39;00m\n\u001b[0;32m-> 7718\u001b[0m \u001b[38;5;28;01mreturn\u001b[39;00m \u001b[43mDataFrameGroupBy\u001b[49m\u001b[43m(\u001b[49m\n\u001b[1;32m   7719\u001b[0m \u001b[43m    \u001b[49m\u001b[43mobj\u001b[49m\u001b[38;5;241;43m=\u001b[39;49m\u001b[38;5;28;43mself\u001b[39;49m\u001b[43m,\u001b[49m\n\u001b[1;32m   7720\u001b[0m \u001b[43m    \u001b[49m\u001b[43mkeys\u001b[49m\u001b[38;5;241;43m=\u001b[39;49m\u001b[43mby\u001b[49m\u001b[43m,\u001b[49m\n\u001b[1;32m   7721\u001b[0m \u001b[43m    \u001b[49m\u001b[43maxis\u001b[49m\u001b[38;5;241;43m=\u001b[39;49m\u001b[43maxis\u001b[49m\u001b[43m,\u001b[49m\n\u001b[1;32m   7722\u001b[0m \u001b[43m    \u001b[49m\u001b[43mlevel\u001b[49m\u001b[38;5;241;43m=\u001b[39;49m\u001b[43mlevel\u001b[49m\u001b[43m,\u001b[49m\n\u001b[1;32m   7723\u001b[0m \u001b[43m    \u001b[49m\u001b[43mas_index\u001b[49m\u001b[38;5;241;43m=\u001b[39;49m\u001b[43mas_index\u001b[49m\u001b[43m,\u001b[49m\n\u001b[1;32m   7724\u001b[0m \u001b[43m    \u001b[49m\u001b[43msort\u001b[49m\u001b[38;5;241;43m=\u001b[39;49m\u001b[43msort\u001b[49m\u001b[43m,\u001b[49m\n\u001b[1;32m   7725\u001b[0m \u001b[43m    \u001b[49m\u001b[43mgroup_keys\u001b[49m\u001b[38;5;241;43m=\u001b[39;49m\u001b[43mgroup_keys\u001b[49m\u001b[43m,\u001b[49m\n\u001b[1;32m   7726\u001b[0m \u001b[43m    \u001b[49m\u001b[43msqueeze\u001b[49m\u001b[38;5;241;43m=\u001b[39;49m\u001b[43msqueeze\u001b[49m\u001b[43m,\u001b[49m\u001b[43m  \u001b[49m\u001b[38;5;66;43;03m# type: ignore[arg-type]\u001b[39;49;00m\n\u001b[1;32m   7727\u001b[0m \u001b[43m    \u001b[49m\u001b[43mobserved\u001b[49m\u001b[38;5;241;43m=\u001b[39;49m\u001b[43mobserved\u001b[49m\u001b[43m,\u001b[49m\n\u001b[1;32m   7728\u001b[0m \u001b[43m    \u001b[49m\u001b[43mdropna\u001b[49m\u001b[38;5;241;43m=\u001b[39;49m\u001b[43mdropna\u001b[49m\u001b[43m,\u001b[49m\n\u001b[1;32m   7729\u001b[0m \u001b[43m\u001b[49m\u001b[43m)\u001b[49m\n",
      "File \u001b[0;32m/opt/conda/lib/python3.10/site-packages/pandas/core/groupby/groupby.py:882\u001b[0m, in \u001b[0;36mGroupBy.__init__\u001b[0;34m(self, obj, keys, axis, level, grouper, exclusions, selection, as_index, sort, group_keys, squeeze, observed, mutated, dropna)\u001b[0m\n\u001b[1;32m    879\u001b[0m \u001b[38;5;28;01mif\u001b[39;00m grouper \u001b[38;5;129;01mis\u001b[39;00m \u001b[38;5;28;01mNone\u001b[39;00m:\n\u001b[1;32m    880\u001b[0m     \u001b[38;5;28;01mfrom\u001b[39;00m \u001b[38;5;21;01mpandas\u001b[39;00m\u001b[38;5;21;01m.\u001b[39;00m\u001b[38;5;21;01mcore\u001b[39;00m\u001b[38;5;21;01m.\u001b[39;00m\u001b[38;5;21;01mgroupby\u001b[39;00m\u001b[38;5;21;01m.\u001b[39;00m\u001b[38;5;21;01mgrouper\u001b[39;00m \u001b[38;5;28;01mimport\u001b[39;00m get_grouper\n\u001b[0;32m--> 882\u001b[0m     grouper, exclusions, obj \u001b[38;5;241m=\u001b[39m \u001b[43mget_grouper\u001b[49m\u001b[43m(\u001b[49m\n\u001b[1;32m    883\u001b[0m \u001b[43m        \u001b[49m\u001b[43mobj\u001b[49m\u001b[43m,\u001b[49m\n\u001b[1;32m    884\u001b[0m \u001b[43m        \u001b[49m\u001b[43mkeys\u001b[49m\u001b[43m,\u001b[49m\n\u001b[1;32m    885\u001b[0m \u001b[43m        \u001b[49m\u001b[43maxis\u001b[49m\u001b[38;5;241;43m=\u001b[39;49m\u001b[43maxis\u001b[49m\u001b[43m,\u001b[49m\n\u001b[1;32m    886\u001b[0m \u001b[43m        \u001b[49m\u001b[43mlevel\u001b[49m\u001b[38;5;241;43m=\u001b[39;49m\u001b[43mlevel\u001b[49m\u001b[43m,\u001b[49m\n\u001b[1;32m    887\u001b[0m \u001b[43m        \u001b[49m\u001b[43msort\u001b[49m\u001b[38;5;241;43m=\u001b[39;49m\u001b[43msort\u001b[49m\u001b[43m,\u001b[49m\n\u001b[1;32m    888\u001b[0m \u001b[43m        \u001b[49m\u001b[43mobserved\u001b[49m\u001b[38;5;241;43m=\u001b[39;49m\u001b[43mobserved\u001b[49m\u001b[43m,\u001b[49m\n\u001b[1;32m    889\u001b[0m \u001b[43m        \u001b[49m\u001b[43mmutated\u001b[49m\u001b[38;5;241;43m=\u001b[39;49m\u001b[38;5;28;43mself\u001b[39;49m\u001b[38;5;241;43m.\u001b[39;49m\u001b[43mmutated\u001b[49m\u001b[43m,\u001b[49m\n\u001b[1;32m    890\u001b[0m \u001b[43m        \u001b[49m\u001b[43mdropna\u001b[49m\u001b[38;5;241;43m=\u001b[39;49m\u001b[38;5;28;43mself\u001b[39;49m\u001b[38;5;241;43m.\u001b[39;49m\u001b[43mdropna\u001b[49m\u001b[43m,\u001b[49m\n\u001b[1;32m    891\u001b[0m \u001b[43m    \u001b[49m\u001b[43m)\u001b[49m\n\u001b[1;32m    893\u001b[0m \u001b[38;5;28mself\u001b[39m\u001b[38;5;241m.\u001b[39mobj \u001b[38;5;241m=\u001b[39m obj\n\u001b[1;32m    894\u001b[0m \u001b[38;5;28mself\u001b[39m\u001b[38;5;241m.\u001b[39maxis \u001b[38;5;241m=\u001b[39m obj\u001b[38;5;241m.\u001b[39m_get_axis_number(axis)\n",
      "File \u001b[0;32m/opt/conda/lib/python3.10/site-packages/pandas/core/groupby/grouper.py:882\u001b[0m, in \u001b[0;36mget_grouper\u001b[0;34m(obj, key, axis, level, sort, observed, mutated, validate, dropna)\u001b[0m\n\u001b[1;32m    880\u001b[0m         in_axis, level, gpr \u001b[38;5;241m=\u001b[39m \u001b[38;5;28;01mFalse\u001b[39;00m, gpr, \u001b[38;5;28;01mNone\u001b[39;00m\n\u001b[1;32m    881\u001b[0m     \u001b[38;5;28;01melse\u001b[39;00m:\n\u001b[0;32m--> 882\u001b[0m         \u001b[38;5;28;01mraise\u001b[39;00m \u001b[38;5;167;01mKeyError\u001b[39;00m(gpr)\n\u001b[1;32m    883\u001b[0m \u001b[38;5;28;01melif\u001b[39;00m \u001b[38;5;28misinstance\u001b[39m(gpr, Grouper) \u001b[38;5;129;01mand\u001b[39;00m gpr\u001b[38;5;241m.\u001b[39mkey \u001b[38;5;129;01mis\u001b[39;00m \u001b[38;5;129;01mnot\u001b[39;00m \u001b[38;5;28;01mNone\u001b[39;00m:\n\u001b[1;32m    884\u001b[0m     \u001b[38;5;66;03m# Add key to exclusions\u001b[39;00m\n\u001b[1;32m    885\u001b[0m     exclusions\u001b[38;5;241m.\u001b[39madd(gpr\u001b[38;5;241m.\u001b[39mkey)\n",
      "\u001b[0;31mKeyError\u001b[0m: 'user_id'"
     ]
    }
   ],
   "source": [
    "da.groupby(\"user_id\").count().describe()"
   ]
  },
  {
   "cell_type": "markdown",
   "id": "6fa851fa-311d-448a-9fb7-e15e769a3d14",
   "metadata": {},
   "source": [
    "### Regression Model\n",
    "\n",
    "#### Simple Regression"
   ]
  },
  {
   "cell_type": "code",
   "execution_count": null,
   "id": "25b0afa2-653c-4843-baca-584a79a947c0",
   "metadata": {},
   "outputs": [],
   "source": [
    "from sklearn import linear_model\n",
    "import seaborn as sns"
   ]
  },
  {
   "cell_type": "code",
   "execution_count": null,
   "id": "483896d7-baf8-4377-bdd1-34463a7536c3",
   "metadata": {},
   "outputs": [],
   "source": [
    "lr_model = linear_model.LinearRegression()"
   ]
  },
  {
   "cell_type": "code",
   "execution_count": null,
   "id": "69a25a75-17b2-485e-95e3-86b499950ba1",
   "metadata": {},
   "outputs": [],
   "source": [
    "lr_model.fit(X = da[da.notnull().all(1)][['discount_percentage']], \n",
    "             y = da[da.notnull().all(1)][['rating_count']])\n",
    "beta_0 = lr_model.intercept_\n",
    "beta_1 = lr_model.coef_[0]\n",
    "print(f\"Fit model: rating_count = {beta_0} + {beta_1} discount_percentage\")"
   ]
  },
  {
   "cell_type": "code",
   "execution_count": null,
   "id": "af351973-997a-44b7-8393-eece74ddd316",
   "metadata": {},
   "outputs": [],
   "source": [
    "sns.lmplot(\n",
    "    data=da, x=\"discount_percentage\", y=\"rating_count\", height=6,\n",
    "    scatter_kws=dict(s=1.5, alpha=0.35)\n",
    ");"
   ]
  },
  {
   "cell_type": "markdown",
   "id": "bae2b6fb-beeb-4760-9067-c3305b239642",
   "metadata": {},
   "source": [
    "Rather intuitive: more discount, selling more."
   ]
  },
  {
   "cell_type": "code",
   "execution_count": null,
   "id": "18e00674-602a-4150-a2fd-94261a89b0a0",
   "metadata": {},
   "outputs": [],
   "source": [
    "sns.lmplot(\n",
    "    data=da, x=\"discounted_price\", y=\"rating_count\", height=6,\n",
    "    scatter_kws=dict(s=1.5, alpha=0.35)\n",
    ");"
   ]
  },
  {
   "cell_type": "code",
   "execution_count": null,
   "id": "e404ca60-67ac-488b-8664-ee08d75e8c8d",
   "metadata": {},
   "outputs": [],
   "source": [
    "sns.lmplot(\n",
    "    data=da, x=\"actual_price\", y=\"rating_count\", height=6,\n",
    "    scatter_kws=dict(s=1.5, alpha=0.35)\n",
    ");"
   ]
  },
  {
   "cell_type": "markdown",
   "id": "cedc021b-097a-44d6-baf6-7abe09d380d6",
   "metadata": {},
   "source": [
    "Selling volume decreases as (discounted) price goes up, as what the very basic ECON 101 microeconomics theory suggests - does not give much interesting new information."
   ]
  },
  {
   "cell_type": "markdown",
   "id": "cd13fdd9-c1bc-4cfb-b9a5-b84b5a494da3",
   "metadata": {},
   "source": [
    "### Multiple Regression\n",
    "\n",
    "#### Category as explanatory variable?\n",
    "Which category that the product falls into may impact our analysis result. To investigate this effect, we may add a specification where take \"categorization\" as control. To do this, one has to first do one-hot encoding (i.e., transforming it into dummies)."
   ]
  },
  {
   "cell_type": "code",
   "execution_count": null,
   "id": "7a776efe-a13c-422c-adec-c226145a1321",
   "metadata": {},
   "outputs": [],
   "source": [
    "pd.get_dummies(da[\"category\"]).shape[0]"
   ]
  },
  {
   "cell_type": "markdown",
   "id": "92419def-5925-4557-b876-d5fa6f840df6",
   "metadata": {},
   "source": [
    "However, it is unrealistic to transform each category, or we will get 1465 dummy variables. Instead, depending on how we categorize (previous section), we will result in fewer dummies."
   ]
  },
  {
   "cell_type": "markdown",
   "id": "95ff6402-5593-482f-bd28-aef9b3d0ea76",
   "metadata": {},
   "source": [
    "#### explanatory var: discounted_percentage + rating"
   ]
  },
  {
   "cell_type": "code",
   "execution_count": 23,
   "id": "7d813196-2657-4e31-94a0-acac448d022c",
   "metadata": {},
   "outputs": [
    {
     "ename": "NameError",
     "evalue": "name 'linear_model' is not defined",
     "output_type": "error",
     "traceback": [
      "\u001b[0;31m---------------------------------------------------------------------------\u001b[0m",
      "\u001b[0;31mNameError\u001b[0m                                 Traceback (most recent call last)",
      "Input \u001b[0;32mIn [23]\u001b[0m, in \u001b[0;36m<cell line: 1>\u001b[0;34m()\u001b[0m\n\u001b[0;32m----> 1\u001b[0m multi_lr_model \u001b[38;5;241m=\u001b[39m \u001b[43mlinear_model\u001b[49m\u001b[38;5;241m.\u001b[39mLinearRegression()\n\u001b[1;32m      3\u001b[0m X \u001b[38;5;241m=\u001b[39m da[da\u001b[38;5;241m.\u001b[39mnotnull()\u001b[38;5;241m.\u001b[39mall(\u001b[38;5;241m1\u001b[39m)][[\u001b[38;5;124m'\u001b[39m\u001b[38;5;124mdiscount_percentage\u001b[39m\u001b[38;5;124m'\u001b[39m, \u001b[38;5;124m'\u001b[39m\u001b[38;5;124mrating\u001b[39m\u001b[38;5;124m'\u001b[39m]]\n\u001b[1;32m      4\u001b[0m y \u001b[38;5;241m=\u001b[39m da[da\u001b[38;5;241m.\u001b[39mnotnull()\u001b[38;5;241m.\u001b[39mall(\u001b[38;5;241m1\u001b[39m)][\u001b[38;5;124m\"\u001b[39m\u001b[38;5;124mrating_count\u001b[39m\u001b[38;5;124m\"\u001b[39m]\n",
      "\u001b[0;31mNameError\u001b[0m: name 'linear_model' is not defined"
     ]
    }
   ],
   "source": [
    "multi_lr_model = linear_model.LinearRegression()\n",
    "\n",
    "X = da[da.notnull().all(1)][['discount_percentage', 'rating']]\n",
    "y = da[da.notnull().all(1)][\"rating_count\"]\n",
    "\n",
    "multi_lr_model.fit(X = X, y = da[da.notnull().all(1)][['rating_count']])\n",
    "beta_0 = multi_lr_model.intercept_\n",
    "beta_1 = multi_lr_model.coef_[0,0]\n",
    "beta_2 = multi_lr_model.coef_[0,1]\n",
    "\n",
    "print(f\"Fit model: rating_count = {beta_0} + {beta_1:.4f} discount_percentage + {beta_2:.4f} rating\")"
   ]
  },
  {
   "cell_type": "code",
   "execution_count": null,
   "id": "fd2cee16-6caa-42c7-b44c-bf738fc1ccf0",
   "metadata": {},
   "outputs": [],
   "source": [
    "prediction1 = multi_lr_model.predict(da[da.notnull().all(1)][[\"discount_percentage\",\"rating\"]])\n",
    "X1 = X['discount_percentage']\n",
    "\n",
    "fig, ax = plt.subplots()\n",
    "\n",
    "ax.scatter(X1, y, s=1.5, alpha=0.25) \n",
    "ax.scatter(X1, prediction1, s=1.5, c=\"red\", alpha=0.25) \n",
    "# ax.set_ylim([0,100000])"
   ]
  },
  {
   "cell_type": "markdown",
   "id": "4a7bbb9b-5735-4426-b105-10c68e6d9c74",
   "metadata": {},
   "source": [
    "##### The intercept is negative?"
   ]
  },
  {
   "cell_type": "markdown",
   "id": "864b2c10-12d7-4a77-9766-6c0a919f77cb",
   "metadata": {},
   "source": [
    "The intercept is negative, but there is no need to worry much because as long as the rating is at least 3.101, the selling volume is positive. Even with rating below 3.101, there are only 14 such products which have a average discount_percentage of 64."
   ]
  },
  {
   "cell_type": "code",
   "execution_count": null,
   "id": "82d3c3f1-cde5-41c9-a5ea-3088928e62b6",
   "metadata": {},
   "outputs": [],
   "source": [
    "multi_lr_model.predict([[0, 3.101]])[0]"
   ]
  },
  {
   "cell_type": "code",
   "execution_count": null,
   "id": "db4e8b3f-1fa1-41c3-95e9-c924331b6c45",
   "metadata": {},
   "outputs": [],
   "source": [
    "da[da[\"rating\"]<3.101].describe()"
   ]
  },
  {
   "cell_type": "code",
   "execution_count": null,
   "id": "4902af9a-e531-48cb-958b-a36bbb928b5a",
   "metadata": {},
   "outputs": [],
   "source": [
    "(prediction1<=0).sum()"
   ]
  },
  {
   "cell_type": "markdown",
   "id": "3092eb74-f65d-4b69-9bf3-2c4db55c871d",
   "metadata": {},
   "source": [
    "In fact, only 4 predictions have negative values."
   ]
  },
  {
   "cell_type": "markdown",
   "id": "173a7410-6dfc-434a-8953-aeb0b5755ba1",
   "metadata": {},
   "source": [
    "#### Add \"discounted_price\" as explanatory variable"
   ]
  },
  {
   "cell_type": "code",
   "execution_count": null,
   "id": "9db7850a-0920-4224-a826-cbb3257b3731",
   "metadata": {},
   "outputs": [],
   "source": [
    "multi_lr_model = linear_model.LinearRegression()\n",
    "\n",
    "X = da[da.notnull().all(1)][['discount_percentage', 'rating', 'discounted_price']]\n",
    "\n",
    "multi_lr_model.fit(X = X, y = da[da.notnull().all(1)][['rating_count']])\n",
    "beta_0 = multi_lr_model.intercept_\n",
    "beta_1 = multi_lr_model.coef_[0,0]\n",
    "beta_2 = multi_lr_model.coef_[0,1]\n",
    "beta_3 = multi_lr_model.coef_[0,2]\n",
    "\n",
    "print(f\"Fit model: rating_count = {beta_0} + {beta_1:.4f} discount_percentage + {beta_2:.4f} rating + {beta_3:.4f} discounted_price\")"
   ]
  },
  {
   "cell_type": "markdown",
   "id": "2d6f7e1e-f87f-482d-91e7-7406d720ad60",
   "metadata": {},
   "source": [
    "Notice $\\beta_3$ is almost 0. \n",
    "\n",
    "Changing discounted price to the actual price will give a similar result."
   ]
  },
  {
   "cell_type": "code",
   "execution_count": null,
   "id": "4fc5e3e9-ad5e-4b55-b577-f7d12f587f79",
   "metadata": {},
   "outputs": [],
   "source": [
    "multi_lr_model = linear_model.LinearRegression()\n",
    "\n",
    "X = da[da.notnull().all(1)][['discount_percentage', 'rating', 'actual_price']]\n",
    "\n",
    "multi_lr_model.fit(X = X, y = da[da.notnull().all(1)][['rating_count']])\n",
    "beta_0 = multi_lr_model.intercept_\n",
    "beta_1 = multi_lr_model.coef_[0,0]\n",
    "beta_2 = multi_lr_model.coef_[0,1]\n",
    "beta_3 = multi_lr_model.coef_[0,2]\n",
    "\n",
    "print(f\"Fit model: rating_count = {beta_0} + {beta_1:.4f} discount_percentage + {beta_2:.4f} rating + {beta_3:.4f} actual_price\")"
   ]
  },
  {
   "cell_type": "code",
   "execution_count": null,
   "id": "c2c93ea5-ea49-43ae-961d-c28acaff03d0",
   "metadata": {},
   "outputs": [],
   "source": []
  }
 ],
 "metadata": {
  "kernelspec": {
   "display_name": "Python 3 (ipykernel)",
   "language": "python",
   "name": "python3"
  },
  "language_info": {
   "codemirror_mode": {
    "name": "ipython",
    "version": 3
   },
   "file_extension": ".py",
   "mimetype": "text/x-python",
   "name": "python",
   "nbconvert_exporter": "python",
   "pygments_lexer": "ipython3",
   "version": "3.10.5"
  }
 },
 "nbformat": 4,
 "nbformat_minor": 5
}
